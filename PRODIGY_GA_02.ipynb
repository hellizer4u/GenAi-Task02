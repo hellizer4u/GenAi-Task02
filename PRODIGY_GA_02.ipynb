{
  "cells": [
    {
      "cell_type": "markdown",
      "metadata": {
        "id": "view-in-github",
        "colab_type": "text"
      },
      "source": [
        "<a href=\"https://colab.research.google.com/github/hellizer4u/GenAi-Task02/blob/main/PRODIGY_GA_02.ipynb\" target=\"_parent\"><img src=\"https://colab.research.google.com/assets/colab-badge.svg\" alt=\"Open In Colab\"/></a>"
      ]
    },
    {
      "cell_type": "code",
      "execution_count": null,
      "metadata": {
        "id": "ca1gsdj7l4Tp"
      },
      "outputs": [],
      "source": [
        " !pip install diffusers transformers accelerate safetensors\n"
      ]
    },
    {
      "cell_type": "code",
      "execution_count": null,
      "metadata": {
        "id": "_cxK-Psmx9X1"
      },
      "outputs": [],
      "source": [
        "import torch\n",
        "from diffusers import StableDiffusionPipeline\n",
        "from PIL import Image\n",
        "import matplotlib.pyplot as plt\n"
      ]
    },
    {
      "cell_type": "code",
      "execution_count": null,
      "metadata": {
        "id": "bxYVSKDhyAYz"
      },
      "outputs": [],
      "source": [
        "pipe = StableDiffusionPipeline.from_pretrained(\n",
        "    \"runwayml/stable-diffusion-v1-5\",\n",
        "    torch_dtype=torch.float32\n",
        ")\n",
        "pipe = pipe.to(\"cpu\")\n"
      ]
    },
    {
      "cell_type": "code",
      "execution_count": null,
      "metadata": {
        "id": "RBZj--XeyCIu"
      },
      "outputs": [],
      "source": [
        "prompts = [\n",
        "    \"A futuristic city skyline at sunset\",\n",
        "    \"A fantasy dragon flying over mountains\",\n",
        "    \"A serene beach with palm trees and clear blue water\",\n",
        "    \"A robot painting a portrait in an art studio\",\n",
        "    \"A cat wearing a wizard hat casting a spell\"\n",
        "]\n"
      ]
    },
    {
      "cell_type": "code",
      "execution_count": null,
      "metadata": {
        "id": "Q0fugGGVyC4a"
      },
      "outputs": [],
      "source": [
        "for i, prompt in enumerate(prompts):\n",
        "    image = pipe(prompt).images[0]\n",
        "    plt.imshow(image)\n",
        "    plt.axis(\"off\")\n",
        "    plt.title(f\"Prompt: {prompt}\")\n",
        "    plt.show()\n",
        "    image.save(f\"generated_image_{i+1}.png\")\n"
      ]
    }
  ],
  "metadata": {
    "colab": {
      "provenance": [],
      "include_colab_link": true
    },
    "kernelspec": {
      "display_name": "Python 3",
      "name": "python3"
    },
    "language_info": {
      "name": "python"
    }
  },
  "nbformat": 4,
  "nbformat_minor": 0
}